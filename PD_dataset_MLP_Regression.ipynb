{
  "nbformat": 4,
  "nbformat_minor": 0,
  "metadata": {
    "colab": {
      "provenance": [],
      "gpuType": "T4",
      "authorship_tag": "ABX9TyP+pEN5oOkbFTsz1OPLGLPu",
      "include_colab_link": true
    },
    "kernelspec": {
      "name": "python3",
      "display_name": "Python 3"
    },
    "language_info": {
      "name": "python"
    },
    "accelerator": "GPU"
  },
  "cells": [
    {
      "cell_type": "markdown",
      "metadata": {
        "id": "view-in-github",
        "colab_type": "text"
      },
      "source": [
        "<a href=\"https://colab.research.google.com/github/lulezo/Parkinson-s-Disease-Telemonitoring-Dataset-Regression-Model/blob/main/PD_dataset_MLP_Regression.ipynb\" target=\"_parent\"><img src=\"https://colab.research.google.com/assets/colab-badge.svg\" alt=\"Open In Colab\"/></a>"
      ]
    },
    {
      "cell_type": "markdown",
      "source": [
        "1. Load the data"
      ],
      "metadata": {
        "id": "liPHQgsYj4hn"
      }
    },
    {
      "cell_type": "code",
      "execution_count": null,
      "metadata": {
        "id": "pBjsgoQth6Fc"
      },
      "outputs": [],
      "source": [
        "!wget https://archive.ics.uci.edu/static/public/189/data.csv"
      ]
    },
    {
      "cell_type": "code",
      "source": [
        "import pandas as pd\n",
        "df = pd.read_csv('data.csv')\n",
        "df = df.drop('motor_UPDRS', axis=1)\n",
        "df = df.drop('subject#', axis=1)\n",
        "df.head()"
      ],
      "metadata": {
        "id": "WBaykcKMh-vI"
      },
      "execution_count": null,
      "outputs": []
    },
    {
      "cell_type": "markdown",
      "source": [
        "2. Grid Search and Model Creation"
      ],
      "metadata": {
        "id": "3Ony9ZnLj6zw"
      }
    },
    {
      "cell_type": "code",
      "source": [
        "from sklearn.neural_network import MLPRegressor\n",
        "from sklearn.model_selection import GridSearchCV\n",
        "from sklearn.model_selection import train_test_split\n",
        "from sklearn.preprocessing import MinMaxScaler\n",
        "\n",
        "X = df.drop('total_UPDRS', axis=1)  # Features\n",
        "y = df['total_UPDRS']  # Target variable\n",
        "n_inputs = X.shape[1]\n",
        "\n",
        "# split into train test sets\n",
        "X_train, X_test, y_train, y_test = train_test_split(X, y, test_size=0.20, random_state=1)\n",
        "\n",
        "# scale data\n",
        "t = MinMaxScaler()\n",
        "t.fit(X_train)\n",
        "X_train = t.transform(X_train)\n",
        "X_test = t.transform(X_test)\n",
        "\n",
        "mlp = MLPRegressor(max_iter=100)\n",
        "\n",
        "parameter_space = {\n",
        "    'hidden_layer_sizes': [(100, 200, 300, 100), (200, 400, 600, 400, 200, 100)],\n",
        "    'activation': ['tanh', 'relu'],\n",
        "    'solver': ['sgd', 'adam'],\n",
        "    'alpha': [0.0001, 0.05],\n",
        "    'learning_rate': ['constant','adaptive'],\n",
        "    }\n",
        "\n",
        "reg = GridSearchCV(mlp, parameter_space, n_jobs=-1, cv=3)\n",
        "reg.fit(X_train, y_train)"
      ],
      "metadata": {
        "colab": {
          "base_uri": "https://localhost:8080/",
          "height": 171
        },
        "id": "naiwrnmK5AIx",
        "outputId": "297db476-e56d-48a4-df09-d9fa0edb7322"
      },
      "execution_count": 3,
      "outputs": [
        {
          "output_type": "stream",
          "name": "stderr",
          "text": [
            "/usr/local/lib/python3.10/dist-packages/sklearn/neural_network/_multilayer_perceptron.py:686: ConvergenceWarning: Stochastic Optimizer: Maximum iterations (100) reached and the optimization hasn't converged yet.\n",
            "  warnings.warn(\n"
          ]
        },
        {
          "output_type": "execute_result",
          "data": {
            "text/plain": [
              "GridSearchCV(cv=3, estimator=MLPRegressor(max_iter=100), n_jobs=-1,\n",
              "             param_grid={'activation': ['tanh', 'relu'],\n",
              "                         'alpha': [0.0001, 0.05],\n",
              "                         'hidden_layer_sizes': [(100, 200, 300, 100),\n",
              "                                                (200, 400, 600, 400, 200, 100)],\n",
              "                         'learning_rate': ['constant', 'adaptive'],\n",
              "                         'solver': ['sgd', 'adam']})"
            ],
            "text/html": [
              "<style>#sk-container-id-1 {color: black;background-color: white;}#sk-container-id-1 pre{padding: 0;}#sk-container-id-1 div.sk-toggleable {background-color: white;}#sk-container-id-1 label.sk-toggleable__label {cursor: pointer;display: block;width: 100%;margin-bottom: 0;padding: 0.3em;box-sizing: border-box;text-align: center;}#sk-container-id-1 label.sk-toggleable__label-arrow:before {content: \"▸\";float: left;margin-right: 0.25em;color: #696969;}#sk-container-id-1 label.sk-toggleable__label-arrow:hover:before {color: black;}#sk-container-id-1 div.sk-estimator:hover label.sk-toggleable__label-arrow:before {color: black;}#sk-container-id-1 div.sk-toggleable__content {max-height: 0;max-width: 0;overflow: hidden;text-align: left;background-color: #f0f8ff;}#sk-container-id-1 div.sk-toggleable__content pre {margin: 0.2em;color: black;border-radius: 0.25em;background-color: #f0f8ff;}#sk-container-id-1 input.sk-toggleable__control:checked~div.sk-toggleable__content {max-height: 200px;max-width: 100%;overflow: auto;}#sk-container-id-1 input.sk-toggleable__control:checked~label.sk-toggleable__label-arrow:before {content: \"▾\";}#sk-container-id-1 div.sk-estimator input.sk-toggleable__control:checked~label.sk-toggleable__label {background-color: #d4ebff;}#sk-container-id-1 div.sk-label input.sk-toggleable__control:checked~label.sk-toggleable__label {background-color: #d4ebff;}#sk-container-id-1 input.sk-hidden--visually {border: 0;clip: rect(1px 1px 1px 1px);clip: rect(1px, 1px, 1px, 1px);height: 1px;margin: -1px;overflow: hidden;padding: 0;position: absolute;width: 1px;}#sk-container-id-1 div.sk-estimator {font-family: monospace;background-color: #f0f8ff;border: 1px dotted black;border-radius: 0.25em;box-sizing: border-box;margin-bottom: 0.5em;}#sk-container-id-1 div.sk-estimator:hover {background-color: #d4ebff;}#sk-container-id-1 div.sk-parallel-item::after {content: \"\";width: 100%;border-bottom: 1px solid gray;flex-grow: 1;}#sk-container-id-1 div.sk-label:hover label.sk-toggleable__label {background-color: #d4ebff;}#sk-container-id-1 div.sk-serial::before {content: \"\";position: absolute;border-left: 1px solid gray;box-sizing: border-box;top: 0;bottom: 0;left: 50%;z-index: 0;}#sk-container-id-1 div.sk-serial {display: flex;flex-direction: column;align-items: center;background-color: white;padding-right: 0.2em;padding-left: 0.2em;position: relative;}#sk-container-id-1 div.sk-item {position: relative;z-index: 1;}#sk-container-id-1 div.sk-parallel {display: flex;align-items: stretch;justify-content: center;background-color: white;position: relative;}#sk-container-id-1 div.sk-item::before, #sk-container-id-1 div.sk-parallel-item::before {content: \"\";position: absolute;border-left: 1px solid gray;box-sizing: border-box;top: 0;bottom: 0;left: 50%;z-index: -1;}#sk-container-id-1 div.sk-parallel-item {display: flex;flex-direction: column;z-index: 1;position: relative;background-color: white;}#sk-container-id-1 div.sk-parallel-item:first-child::after {align-self: flex-end;width: 50%;}#sk-container-id-1 div.sk-parallel-item:last-child::after {align-self: flex-start;width: 50%;}#sk-container-id-1 div.sk-parallel-item:only-child::after {width: 0;}#sk-container-id-1 div.sk-dashed-wrapped {border: 1px dashed gray;margin: 0 0.4em 0.5em 0.4em;box-sizing: border-box;padding-bottom: 0.4em;background-color: white;}#sk-container-id-1 div.sk-label label {font-family: monospace;font-weight: bold;display: inline-block;line-height: 1.2em;}#sk-container-id-1 div.sk-label-container {text-align: center;}#sk-container-id-1 div.sk-container {/* jupyter's `normalize.less` sets `[hidden] { display: none; }` but bootstrap.min.css set `[hidden] { display: none !important; }` so we also need the `!important` here to be able to override the default hidden behavior on the sphinx rendered scikit-learn.org. See: https://github.com/scikit-learn/scikit-learn/issues/21755 */display: inline-block !important;position: relative;}#sk-container-id-1 div.sk-text-repr-fallback {display: none;}</style><div id=\"sk-container-id-1\" class=\"sk-top-container\"><div class=\"sk-text-repr-fallback\"><pre>GridSearchCV(cv=3, estimator=MLPRegressor(max_iter=100), n_jobs=-1,\n",
              "             param_grid={&#x27;activation&#x27;: [&#x27;tanh&#x27;, &#x27;relu&#x27;],\n",
              "                         &#x27;alpha&#x27;: [0.0001, 0.05],\n",
              "                         &#x27;hidden_layer_sizes&#x27;: [(100, 200, 300, 100),\n",
              "                                                (200, 400, 600, 400, 200, 100)],\n",
              "                         &#x27;learning_rate&#x27;: [&#x27;constant&#x27;, &#x27;adaptive&#x27;],\n",
              "                         &#x27;solver&#x27;: [&#x27;sgd&#x27;, &#x27;adam&#x27;]})</pre><b>In a Jupyter environment, please rerun this cell to show the HTML representation or trust the notebook. <br />On GitHub, the HTML representation is unable to render, please try loading this page with nbviewer.org.</b></div><div class=\"sk-container\" hidden><div class=\"sk-item sk-dashed-wrapped\"><div class=\"sk-label-container\"><div class=\"sk-label sk-toggleable\"><input class=\"sk-toggleable__control sk-hidden--visually\" id=\"sk-estimator-id-1\" type=\"checkbox\" ><label for=\"sk-estimator-id-1\" class=\"sk-toggleable__label sk-toggleable__label-arrow\">GridSearchCV</label><div class=\"sk-toggleable__content\"><pre>GridSearchCV(cv=3, estimator=MLPRegressor(max_iter=100), n_jobs=-1,\n",
              "             param_grid={&#x27;activation&#x27;: [&#x27;tanh&#x27;, &#x27;relu&#x27;],\n",
              "                         &#x27;alpha&#x27;: [0.0001, 0.05],\n",
              "                         &#x27;hidden_layer_sizes&#x27;: [(100, 200, 300, 100),\n",
              "                                                (200, 400, 600, 400, 200, 100)],\n",
              "                         &#x27;learning_rate&#x27;: [&#x27;constant&#x27;, &#x27;adaptive&#x27;],\n",
              "                         &#x27;solver&#x27;: [&#x27;sgd&#x27;, &#x27;adam&#x27;]})</pre></div></div></div><div class=\"sk-parallel\"><div class=\"sk-parallel-item\"><div class=\"sk-item\"><div class=\"sk-label-container\"><div class=\"sk-label sk-toggleable\"><input class=\"sk-toggleable__control sk-hidden--visually\" id=\"sk-estimator-id-2\" type=\"checkbox\" ><label for=\"sk-estimator-id-2\" class=\"sk-toggleable__label sk-toggleable__label-arrow\">estimator: MLPRegressor</label><div class=\"sk-toggleable__content\"><pre>MLPRegressor(max_iter=100)</pre></div></div></div><div class=\"sk-serial\"><div class=\"sk-item\"><div class=\"sk-estimator sk-toggleable\"><input class=\"sk-toggleable__control sk-hidden--visually\" id=\"sk-estimator-id-3\" type=\"checkbox\" ><label for=\"sk-estimator-id-3\" class=\"sk-toggleable__label sk-toggleable__label-arrow\">MLPRegressor</label><div class=\"sk-toggleable__content\"><pre>MLPRegressor(max_iter=100)</pre></div></div></div></div></div></div></div></div></div></div>"
            ]
          },
          "metadata": {},
          "execution_count": 3
        }
      ]
    },
    {
      "cell_type": "markdown",
      "source": [
        "3. Best Parameters"
      ],
      "metadata": {
        "id": "Jx_dVPSmkCaB"
      }
    },
    {
      "cell_type": "code",
      "source": [
        "# Best paramete set\n",
        "print('Best parameters found:\\n', reg.best_params_)\n",
        "\n",
        "# All results\n",
        "means = reg.cv_results_['mean_test_score']\n",
        "stds = reg.cv_results_['std_test_score']\n",
        "for mean, std, params in zip(means, stds, reg.cv_results_['params']):\n",
        "    print(\"%0.3f (+/-%0.03f) for %r\" % (mean, std * 2, params))\n"
      ],
      "metadata": {
        "colab": {
          "base_uri": "https://localhost:8080/"
        },
        "id": "3Rs_yc2-88nN",
        "outputId": "57e3c45c-f842-4e3b-ac60-dee49cccf3b0"
      },
      "execution_count": 4,
      "outputs": [
        {
          "output_type": "stream",
          "name": "stdout",
          "text": [
            "Best parameters found:\n",
            " {'activation': 'relu', 'alpha': 0.05, 'hidden_layer_sizes': (200, 400, 600, 400, 200, 100), 'learning_rate': 'adaptive', 'solver': 'sgd'}\n",
            "0.284 (+/-0.408) for {'activation': 'tanh', 'alpha': 0.0001, 'hidden_layer_sizes': (100, 200, 300, 100), 'learning_rate': 'constant', 'solver': 'sgd'}\n",
            "-0.000 (+/-0.001) for {'activation': 'tanh', 'alpha': 0.0001, 'hidden_layer_sizes': (100, 200, 300, 100), 'learning_rate': 'constant', 'solver': 'adam'}\n",
            "0.459 (+/-0.116) for {'activation': 'tanh', 'alpha': 0.0001, 'hidden_layer_sizes': (100, 200, 300, 100), 'learning_rate': 'adaptive', 'solver': 'sgd'}\n",
            "-0.000 (+/-0.001) for {'activation': 'tanh', 'alpha': 0.0001, 'hidden_layer_sizes': (100, 200, 300, 100), 'learning_rate': 'adaptive', 'solver': 'adam'}\n",
            "-0.000 (+/-0.001) for {'activation': 'tanh', 'alpha': 0.0001, 'hidden_layer_sizes': (200, 400, 600, 400, 200, 100), 'learning_rate': 'constant', 'solver': 'sgd'}\n",
            "-0.000 (+/-0.000) for {'activation': 'tanh', 'alpha': 0.0001, 'hidden_layer_sizes': (200, 400, 600, 400, 200, 100), 'learning_rate': 'constant', 'solver': 'adam'}\n",
            "-0.000 (+/-0.001) for {'activation': 'tanh', 'alpha': 0.0001, 'hidden_layer_sizes': (200, 400, 600, 400, 200, 100), 'learning_rate': 'adaptive', 'solver': 'sgd'}\n",
            "-0.000 (+/-0.000) for {'activation': 'tanh', 'alpha': 0.0001, 'hidden_layer_sizes': (200, 400, 600, 400, 200, 100), 'learning_rate': 'adaptive', 'solver': 'adam'}\n",
            "0.444 (+/-0.021) for {'activation': 'tanh', 'alpha': 0.05, 'hidden_layer_sizes': (100, 200, 300, 100), 'learning_rate': 'constant', 'solver': 'sgd'}\n",
            "-0.000 (+/-0.001) for {'activation': 'tanh', 'alpha': 0.05, 'hidden_layer_sizes': (100, 200, 300, 100), 'learning_rate': 'constant', 'solver': 'adam'}\n",
            "0.488 (+/-0.073) for {'activation': 'tanh', 'alpha': 0.05, 'hidden_layer_sizes': (100, 200, 300, 100), 'learning_rate': 'adaptive', 'solver': 'sgd'}\n",
            "0.122 (+/-0.347) for {'activation': 'tanh', 'alpha': 0.05, 'hidden_layer_sizes': (100, 200, 300, 100), 'learning_rate': 'adaptive', 'solver': 'adam'}\n",
            "0.214 (+/-0.607) for {'activation': 'tanh', 'alpha': 0.05, 'hidden_layer_sizes': (200, 400, 600, 400, 200, 100), 'learning_rate': 'constant', 'solver': 'sgd'}\n",
            "-0.000 (+/-0.000) for {'activation': 'tanh', 'alpha': 0.05, 'hidden_layer_sizes': (200, 400, 600, 400, 200, 100), 'learning_rate': 'constant', 'solver': 'adam'}\n",
            "0.077 (+/-0.168) for {'activation': 'tanh', 'alpha': 0.05, 'hidden_layer_sizes': (200, 400, 600, 400, 200, 100), 'learning_rate': 'adaptive', 'solver': 'sgd'}\n",
            "-0.000 (+/-0.000) for {'activation': 'tanh', 'alpha': 0.05, 'hidden_layer_sizes': (200, 400, 600, 400, 200, 100), 'learning_rate': 'adaptive', 'solver': 'adam'}\n",
            "0.709 (+/-0.087) for {'activation': 'relu', 'alpha': 0.0001, 'hidden_layer_sizes': (100, 200, 300, 100), 'learning_rate': 'constant', 'solver': 'sgd'}\n",
            "0.587 (+/-0.081) for {'activation': 'relu', 'alpha': 0.0001, 'hidden_layer_sizes': (100, 200, 300, 100), 'learning_rate': 'constant', 'solver': 'adam'}\n",
            "0.714 (+/-0.034) for {'activation': 'relu', 'alpha': 0.0001, 'hidden_layer_sizes': (100, 200, 300, 100), 'learning_rate': 'adaptive', 'solver': 'sgd'}\n",
            "0.601 (+/-0.049) for {'activation': 'relu', 'alpha': 0.0001, 'hidden_layer_sizes': (100, 200, 300, 100), 'learning_rate': 'adaptive', 'solver': 'adam'}\n",
            "0.777 (+/-0.026) for {'activation': 'relu', 'alpha': 0.0001, 'hidden_layer_sizes': (200, 400, 600, 400, 200, 100), 'learning_rate': 'constant', 'solver': 'sgd'}\n",
            "0.695 (+/-0.054) for {'activation': 'relu', 'alpha': 0.0001, 'hidden_layer_sizes': (200, 400, 600, 400, 200, 100), 'learning_rate': 'constant', 'solver': 'adam'}\n",
            "0.688 (+/-0.057) for {'activation': 'relu', 'alpha': 0.0001, 'hidden_layer_sizes': (200, 400, 600, 400, 200, 100), 'learning_rate': 'adaptive', 'solver': 'sgd'}\n",
            "0.694 (+/-0.032) for {'activation': 'relu', 'alpha': 0.0001, 'hidden_layer_sizes': (200, 400, 600, 400, 200, 100), 'learning_rate': 'adaptive', 'solver': 'adam'}\n",
            "0.731 (+/-0.065) for {'activation': 'relu', 'alpha': 0.05, 'hidden_layer_sizes': (100, 200, 300, 100), 'learning_rate': 'constant', 'solver': 'sgd'}\n",
            "0.551 (+/-0.091) for {'activation': 'relu', 'alpha': 0.05, 'hidden_layer_sizes': (100, 200, 300, 100), 'learning_rate': 'constant', 'solver': 'adam'}\n",
            "0.729 (+/-0.018) for {'activation': 'relu', 'alpha': 0.05, 'hidden_layer_sizes': (100, 200, 300, 100), 'learning_rate': 'adaptive', 'solver': 'sgd'}\n",
            "0.581 (+/-0.028) for {'activation': 'relu', 'alpha': 0.05, 'hidden_layer_sizes': (100, 200, 300, 100), 'learning_rate': 'adaptive', 'solver': 'adam'}\n",
            "0.769 (+/-0.046) for {'activation': 'relu', 'alpha': 0.05, 'hidden_layer_sizes': (200, 400, 600, 400, 200, 100), 'learning_rate': 'constant', 'solver': 'sgd'}\n",
            "0.664 (+/-0.071) for {'activation': 'relu', 'alpha': 0.05, 'hidden_layer_sizes': (200, 400, 600, 400, 200, 100), 'learning_rate': 'constant', 'solver': 'adam'}\n",
            "0.796 (+/-0.032) for {'activation': 'relu', 'alpha': 0.05, 'hidden_layer_sizes': (200, 400, 600, 400, 200, 100), 'learning_rate': 'adaptive', 'solver': 'sgd'}\n",
            "0.689 (+/-0.067) for {'activation': 'relu', 'alpha': 0.05, 'hidden_layer_sizes': (200, 400, 600, 400, 200, 100), 'learning_rate': 'adaptive', 'solver': 'adam'}\n"
          ]
        }
      ]
    },
    {
      "cell_type": "markdown",
      "source": [
        "4. Results"
      ],
      "metadata": {
        "id": "0tkSbf8SkF7L"
      }
    },
    {
      "cell_type": "code",
      "source": [
        "y_true, y_pred = y_test , reg.predict(X_test)\n",
        "\n",
        "from sklearn.metrics import mean_absolute_error\n",
        "\n",
        "# calculate error\n",
        "score = mean_absolute_error(y_test, y_pred)\n",
        "print(score)\n",
        "print(y_test.values)\n",
        "y_pred"
      ],
      "metadata": {
        "colab": {
          "base_uri": "https://localhost:8080/"
        },
        "id": "XbEuIcNz-uR3",
        "outputId": "87a5c6b4-1fb9-497e-b258-3e8dfab9aaef"
      },
      "execution_count": 7,
      "outputs": [
        {
          "output_type": "stream",
          "name": "stdout",
          "text": [
            "5.775445068700374\n",
            "[26.23  26.23  20.867 ... 22.644 47.561 38.353]\n"
          ]
        },
        {
          "output_type": "execute_result",
          "data": {
            "text/plain": [
              "array([24.42537046, 28.44294639, 31.47598568, ..., 22.60836689,\n",
              "       49.67788158, 44.63194897])"
            ]
          },
          "metadata": {},
          "execution_count": 7
        }
      ]
    }
  ]
}